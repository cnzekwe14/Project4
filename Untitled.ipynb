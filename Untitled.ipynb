{
 "cells": [
  {
   "cell_type": "code",
   "execution_count": 1,
   "id": "8c915176",
   "metadata": {},
   "outputs": [],
   "source": [
    "import pandas as pd\n"
   ]
  },
  {
   "cell_type": "code",
   "execution_count": 3,
   "id": "b1fe18b0",
   "metadata": {},
   "outputs": [],
   "source": [
    "data = pd.read_csv('0819_UkraineCombinedTweetsDeduped.csv')"
   ]
  },
  {
   "cell_type": "code",
   "execution_count": 4,
   "id": "c3d7367e",
   "metadata": {
    "scrolled": true
   },
   "outputs": [
    {
     "data": {
      "text/html": [
       "<div>\n",
       "<style scoped>\n",
       "    .dataframe tbody tr th:only-of-type {\n",
       "        vertical-align: middle;\n",
       "    }\n",
       "\n",
       "    .dataframe tbody tr th {\n",
       "        vertical-align: top;\n",
       "    }\n",
       "\n",
       "    .dataframe thead th {\n",
       "        text-align: right;\n",
       "    }\n",
       "</style>\n",
       "<table border=\"1\" class=\"dataframe\">\n",
       "  <thead>\n",
       "    <tr style=\"text-align: right;\">\n",
       "      <th></th>\n",
       "      <th>Unnamed: 0</th>\n",
       "      <th>userid</th>\n",
       "      <th>username</th>\n",
       "      <th>acctdesc</th>\n",
       "      <th>location</th>\n",
       "      <th>following</th>\n",
       "      <th>followers</th>\n",
       "      <th>totaltweets</th>\n",
       "      <th>usercreatedts</th>\n",
       "      <th>tweetid</th>\n",
       "      <th>...</th>\n",
       "      <th>original_tweet_userid</th>\n",
       "      <th>original_tweet_username</th>\n",
       "      <th>in_reply_to_status_id</th>\n",
       "      <th>in_reply_to_user_id</th>\n",
       "      <th>in_reply_to_screen_name</th>\n",
       "      <th>is_quote_status</th>\n",
       "      <th>quoted_status_id</th>\n",
       "      <th>quoted_status_userid</th>\n",
       "      <th>quoted_status_username</th>\n",
       "      <th>extractedts</th>\n",
       "    </tr>\n",
       "  </thead>\n",
       "  <tbody>\n",
       "    <tr>\n",
       "      <th>0</th>\n",
       "      <td>0</td>\n",
       "      <td>173212647</td>\n",
       "      <td>JoeMokolobetsi</td>\n",
       "      <td>Yeshua Hamashiach is THE answer | Romans 10:9-...</td>\n",
       "      <td>Afrika Borwa</td>\n",
       "      <td>219</td>\n",
       "      <td>197</td>\n",
       "      <td>4789</td>\n",
       "      <td>2010-07-31 19:09:22.000000</td>\n",
       "      <td>1560416252937617411</td>\n",
       "      <td>...</td>\n",
       "      <td>0</td>\n",
       "      <td>NaN</td>\n",
       "      <td>0</td>\n",
       "      <td>0</td>\n",
       "      <td>NaN</td>\n",
       "      <td>False</td>\n",
       "      <td>0</td>\n",
       "      <td>0</td>\n",
       "      <td>NaN</td>\n",
       "      <td>2022-08-19 08:07:26.836769</td>\n",
       "    </tr>\n",
       "    <tr>\n",
       "      <th>1</th>\n",
       "      <td>1</td>\n",
       "      <td>335041409</td>\n",
       "      <td>XclusivasPuebla</td>\n",
       "      <td>Somos el periódico  #ExclusivasPuebla| Investi...</td>\n",
       "      <td>Puebla, México</td>\n",
       "      <td>1419</td>\n",
       "      <td>6402</td>\n",
       "      <td>70267</td>\n",
       "      <td>2011-07-14 02:02:24.000000</td>\n",
       "      <td>1560416256179707904</td>\n",
       "      <td>...</td>\n",
       "      <td>0</td>\n",
       "      <td>NaN</td>\n",
       "      <td>0</td>\n",
       "      <td>0</td>\n",
       "      <td>NaN</td>\n",
       "      <td>False</td>\n",
       "      <td>0</td>\n",
       "      <td>0</td>\n",
       "      <td>NaN</td>\n",
       "      <td>2022-08-19 07:51:50.523048</td>\n",
       "    </tr>\n",
       "    <tr>\n",
       "      <th>2</th>\n",
       "      <td>2</td>\n",
       "      <td>1512400441103032323</td>\n",
       "      <td>ShelterAnimalUA</td>\n",
       "      <td>Shelter for abandoned dogs and cats. 1400 dogs...</td>\n",
       "      <td>Ukraine</td>\n",
       "      <td>782</td>\n",
       "      <td>109</td>\n",
       "      <td>1198</td>\n",
       "      <td>2022-04-08 12:02:47.000000</td>\n",
       "      <td>1560416257752666113</td>\n",
       "      <td>...</td>\n",
       "      <td>0</td>\n",
       "      <td>NaN</td>\n",
       "      <td>0</td>\n",
       "      <td>0</td>\n",
       "      <td>NaN</td>\n",
       "      <td>False</td>\n",
       "      <td>0</td>\n",
       "      <td>0</td>\n",
       "      <td>NaN</td>\n",
       "      <td>2022-08-19 05:12:06.194216</td>\n",
       "    </tr>\n",
       "    <tr>\n",
       "      <th>3</th>\n",
       "      <td>3</td>\n",
       "      <td>1356632630662430722</td>\n",
       "      <td>DogandCatHelpe1</td>\n",
       "      <td>Shelter for abandoned dogs and cats. 1400 dogs...</td>\n",
       "      <td>Ukraine</td>\n",
       "      <td>5</td>\n",
       "      <td>39</td>\n",
       "      <td>690</td>\n",
       "      <td>2021-02-02 15:57:12.000000</td>\n",
       "      <td>1560416257790382081</td>\n",
       "      <td>...</td>\n",
       "      <td>0</td>\n",
       "      <td>NaN</td>\n",
       "      <td>0</td>\n",
       "      <td>0</td>\n",
       "      <td>NaN</td>\n",
       "      <td>False</td>\n",
       "      <td>0</td>\n",
       "      <td>0</td>\n",
       "      <td>NaN</td>\n",
       "      <td>2022-08-19 11:22:26.824532</td>\n",
       "    </tr>\n",
       "    <tr>\n",
       "      <th>4</th>\n",
       "      <td>4</td>\n",
       "      <td>20297125</td>\n",
       "      <td>ElMananaOnline</td>\n",
       "      <td>Las mejores noticias de los dos Laredos y el m...</td>\n",
       "      <td>Nuevo Laredo</td>\n",
       "      <td>2269</td>\n",
       "      <td>17978</td>\n",
       "      <td>56188</td>\n",
       "      <td>2009-02-07 06:32:49.000000</td>\n",
       "      <td>1560416257937051648</td>\n",
       "      <td>...</td>\n",
       "      <td>0</td>\n",
       "      <td>NaN</td>\n",
       "      <td>0</td>\n",
       "      <td>0</td>\n",
       "      <td>NaN</td>\n",
       "      <td>False</td>\n",
       "      <td>0</td>\n",
       "      <td>0</td>\n",
       "      <td>NaN</td>\n",
       "      <td>2022-08-19 11:52:29.448634</td>\n",
       "    </tr>\n",
       "  </tbody>\n",
       "</table>\n",
       "<p>5 rows × 29 columns</p>\n",
       "</div>"
      ],
      "text/plain": [
       "   Unnamed: 0               userid         username  \\\n",
       "0           0            173212647   JoeMokolobetsi   \n",
       "1           1            335041409  XclusivasPuebla   \n",
       "2           2  1512400441103032323  ShelterAnimalUA   \n",
       "3           3  1356632630662430722  DogandCatHelpe1   \n",
       "4           4             20297125   ElMananaOnline   \n",
       "\n",
       "                                            acctdesc        location  \\\n",
       "0  Yeshua Hamashiach is THE answer | Romans 10:9-...    Afrika Borwa   \n",
       "1  Somos el periódico  #ExclusivasPuebla| Investi...  Puebla, México   \n",
       "2  Shelter for abandoned dogs and cats. 1400 dogs...         Ukraine   \n",
       "3  Shelter for abandoned dogs and cats. 1400 dogs...         Ukraine   \n",
       "4  Las mejores noticias de los dos Laredos y el m...    Nuevo Laredo   \n",
       "\n",
       "   following  followers  totaltweets               usercreatedts  \\\n",
       "0        219        197         4789  2010-07-31 19:09:22.000000   \n",
       "1       1419       6402        70267  2011-07-14 02:02:24.000000   \n",
       "2        782        109         1198  2022-04-08 12:02:47.000000   \n",
       "3          5         39          690  2021-02-02 15:57:12.000000   \n",
       "4       2269      17978        56188  2009-02-07 06:32:49.000000   \n",
       "\n",
       "               tweetid  ... original_tweet_userid  original_tweet_username  \\\n",
       "0  1560416252937617411  ...                     0                      NaN   \n",
       "1  1560416256179707904  ...                     0                      NaN   \n",
       "2  1560416257752666113  ...                     0                      NaN   \n",
       "3  1560416257790382081  ...                     0                      NaN   \n",
       "4  1560416257937051648  ...                     0                      NaN   \n",
       "\n",
       "  in_reply_to_status_id in_reply_to_user_id in_reply_to_screen_name  \\\n",
       "0                     0                   0                     NaN   \n",
       "1                     0                   0                     NaN   \n",
       "2                     0                   0                     NaN   \n",
       "3                     0                   0                     NaN   \n",
       "4                     0                   0                     NaN   \n",
       "\n",
       "  is_quote_status  quoted_status_id  quoted_status_userid  \\\n",
       "0           False                 0                     0   \n",
       "1           False                 0                     0   \n",
       "2           False                 0                     0   \n",
       "3           False                 0                     0   \n",
       "4           False                 0                     0   \n",
       "\n",
       "   quoted_status_username                 extractedts  \n",
       "0                     NaN  2022-08-19 08:07:26.836769  \n",
       "1                     NaN  2022-08-19 07:51:50.523048  \n",
       "2                     NaN  2022-08-19 05:12:06.194216  \n",
       "3                     NaN  2022-08-19 11:22:26.824532  \n",
       "4                     NaN  2022-08-19 11:52:29.448634  \n",
       "\n",
       "[5 rows x 29 columns]"
      ]
     },
     "execution_count": 4,
     "metadata": {},
     "output_type": "execute_result"
    }
   ],
   "source": [
    "data.head()"
   ]
  },
  {
   "cell_type": "code",
   "execution_count": 9,
   "id": "5472a2ab",
   "metadata": {},
   "outputs": [
    {
     "data": {
      "text/plain": [
       "(47994, 29)"
      ]
     },
     "execution_count": 9,
     "metadata": {},
     "output_type": "execute_result"
    }
   ],
   "source": [
    "data.shape"
   ]
  },
  {
   "cell_type": "code",
   "execution_count": 7,
   "id": "b3c7c02d",
   "metadata": {
    "scrolled": true
   },
   "outputs": [
    {
     "data": {
      "text/plain": [
       "['Unnamed: 0',\n",
       " 'userid',\n",
       " 'username',\n",
       " 'acctdesc',\n",
       " 'location',\n",
       " 'following',\n",
       " 'followers',\n",
       " 'totaltweets',\n",
       " 'usercreatedts',\n",
       " 'tweetid',\n",
       " 'tweetcreatedts',\n",
       " 'retweetcount',\n",
       " 'text',\n",
       " 'hashtags',\n",
       " 'language',\n",
       " 'coordinates',\n",
       " 'favorite_count',\n",
       " 'is_retweet',\n",
       " 'original_tweet_id',\n",
       " 'original_tweet_userid',\n",
       " 'original_tweet_username',\n",
       " 'in_reply_to_status_id',\n",
       " 'in_reply_to_user_id',\n",
       " 'in_reply_to_screen_name',\n",
       " 'is_quote_status',\n",
       " 'quoted_status_id',\n",
       " 'quoted_status_userid',\n",
       " 'quoted_status_username',\n",
       " 'extractedts']"
      ]
     },
     "execution_count": 7,
     "metadata": {},
     "output_type": "execute_result"
    }
   ],
   "source": [
    "list(data.columns)"
   ]
  },
  {
   "cell_type": "code",
   "execution_count": 12,
   "id": "f7ad4168",
   "metadata": {
    "scrolled": true
   },
   "outputs": [
    {
     "data": {
      "text/plain": [
       "0        Dear vaccine advocate\\n\\nDo take the COVID19 m...\n",
       "1        #Mundo \\n\\nAl menos 6 muertos y 16 heridos en ...\n",
       "2        Animal shelter Dogs and Cats, we need your hel...\n",
       "3        Welcome to our shelter!\\nLocated in Ukraine, K...\n",
       "4        Tensión, debido a que #Rusia sigue en pie en l...\n",
       "                               ...                        \n",
       "47989    Everything as usual, just another russian gove...\n",
       "47990                   @dosnostalgic twisted firestarter!\n",
       "47991    La ruleta Ep. 7: #Ucrania: Presidente Zelensky...\n",
       "47992    La ruleta Ep. 7: #Ucrania: Presidente Zelensky...\n",
       "47993    When people say the US was in better shape whi...\n",
       "Name: text, Length: 47994, dtype: object"
      ]
     },
     "execution_count": 12,
     "metadata": {},
     "output_type": "execute_result"
    }
   ],
   "source": [
    "text = data['text']\n",
    "text"
   ]
  },
  {
   "cell_type": "code",
   "execution_count": 13,
   "id": "a323f0b2",
   "metadata": {},
   "outputs": [
    {
     "data": {
      "text/plain": [
       "0        [{'text': 'Pfizer', 'indices': [189, 196]}, {'...\n",
       "1        [{'text': 'Mundo', 'indices': [0, 6]}, {'text'...\n",
       "2        [{'text': 'Ukraine', 'indices': [189, 197]}, {...\n",
       "3        [{'text': 'Ukraine', 'indices': [194, 202]}, {...\n",
       "4        [{'text': 'Rusia', 'indices': [22, 28]}, {'tex...\n",
       "                               ...                        \n",
       "47989    [{'text': 'RussiaIsATerroristState', 'indices'...\n",
       "47990                                                   []\n",
       "47991           [{'text': 'Ucrania', 'indices': [17, 25]}]\n",
       "47992           [{'text': 'Ucrania', 'indices': [17, 25]}]\n",
       "47993    [{'text': 'Biden', 'indices': [151, 157]}, {'t...\n",
       "Name: hashtags, Length: 47994, dtype: object"
      ]
     },
     "execution_count": 13,
     "metadata": {},
     "output_type": "execute_result"
    }
   ],
   "source": [
    "hashtags = data['hashtags']\n",
    "hashtags"
   ]
  }
 ],
 "metadata": {
  "kernelspec": {
   "display_name": "Python 3 (ipykernel)",
   "language": "python",
   "name": "python3"
  },
  "language_info": {
   "codemirror_mode": {
    "name": "ipython",
    "version": 3
   },
   "file_extension": ".py",
   "mimetype": "text/x-python",
   "name": "python",
   "nbconvert_exporter": "python",
   "pygments_lexer": "ipython3",
   "version": "3.9.13"
  }
 },
 "nbformat": 4,
 "nbformat_minor": 5
}
